{
 "cells": [
  {
   "cell_type": "markdown",
   "metadata": {},
   "source": [
    "# Task C"
   ]
  },
  {
   "cell_type": "code",
   "execution_count": 1,
   "metadata": {},
   "outputs": [],
   "source": [
    "import math, torch, csv\n",
    "import matplotlib.pyplot as plt"
   ]
  },
  {
   "cell_type": "markdown",
   "metadata": {},
   "source": [
    "## Read data from file"
   ]
  },
  {
   "cell_type": "code",
   "execution_count": 2,
   "metadata": {},
   "outputs": [],
   "source": [
    "day = []\n",
    "head_circumference = []\n",
    "with open('data/day_head_circumference.csv', newline='') as csv_file:\n",
    "    csv_file.readline()\n",
    "    csv_reader = csv.reader(csv_file)\n",
    "    for row in csv_reader:\n",
    "        day.append(float(row[0]))\n",
    "        head_circumference.append(float(row[1]))"
   ]
  },
  {
   "cell_type": "code",
   "execution_count": 3,
   "metadata": {},
   "outputs": [],
   "source": [
    "x_train = torch.tensor(day).reshape(-1, 1)\n",
    "y_train = torch.tensor(head_circumference).reshape(-1, 1)"
   ]
  },
  {
   "cell_type": "code",
   "execution_count": 4,
   "metadata": {},
   "outputs": [],
   "source": [
    "class NonLinearRegressionModel: \n",
    "    def __init__(self):\n",
    "        self.W = torch.tensor([[0.0]], requires_grad=True)\n",
    "        self.b = torch.tensor([[0.0]], requires_grad=True)\n",
    "        \n",
    "    def sigma(self, z):\n",
    "        return 1 / (1 + pow(math.e, -z))\n",
    "        \n",
    "    def f(self, x):\n",
    "        return 20 * torch.sigmoid(x @ self.W + self.b) + 31\n",
    "    \n",
    "    def loss(self, x, y):\n",
    "        return torch.nn.functional.mse_loss(self.f(x), y)"
   ]
  },
  {
   "cell_type": "code",
   "execution_count": 5,
   "metadata": {},
   "outputs": [],
   "source": [
    "model = NonLinearRegressionModel()"
   ]
  },
  {
   "cell_type": "markdown",
   "metadata": {},
   "source": [
    "## Optimizing"
   ]
  },
  {
   "cell_type": "code",
   "execution_count": 6,
   "metadata": {},
   "outputs": [
    {
     "name": "stdout",
     "output_type": "stream",
     "text": [
      "Done\n"
     ]
    }
   ],
   "source": [
    "optimizer = torch.optim.SGD([model.b, model.W], 0.000001)\n",
    "for epoch in range(100000):\n",
    "    model.loss(x_train, y_train).backward()\n",
    "    optimizer.step()\n",
    "    optimizer.zero_grad()\n",
    "print('Done')"
   ]
  },
  {
   "cell_type": "markdown",
   "metadata": {},
   "source": [
    "## Results"
   ]
  },
  {
   "cell_type": "code",
   "execution_count": 7,
   "metadata": {},
   "outputs": [
    {
     "name": "stdout",
     "output_type": "stream",
     "text": [
      "W = tensor([[0.0025]], requires_grad=True), b = tensor([[-0.1177]], requires_grad=True), loss = tensor(2.6798, grad_fn=<MseLossBackward>)\n"
     ]
    }
   ],
   "source": [
    "print('W = %s, b = %s, loss = %s' % (model.W, model.b, model.loss(x_train, y_train)))"
   ]
  },
  {
   "cell_type": "markdown",
   "metadata": {},
   "source": [
    "## Plotting"
   ]
  },
  {
   "cell_type": "code",
   "execution_count": 8,
   "metadata": {},
   "outputs": [
    {
     "data": {
      "image/png": "[encoded data removed]",
      "text/plain": [
       "<Figure size 432x288 with 1 Axes>"
      ]
     },
     "metadata": {
      "needs_background": "light"
     },
     "output_type": "display_data"
    }
   ],
   "source": [
    "plt.plot(x_train, y_train, 'o', label='$(\\\\hat x^{(i)}, \\\\hat y^{(i)})$', zorder=1)\n",
    "plt.xlabel('x')\n",
    "plt.ylabel('y')\n",
    "plt.scatter(x_train, model.f(x_train).detach(), s=10, label='$y = f(x) = 20\\u03C3(xW+b)+31$', color='orange', zorder=2)\n",
    "plt.show()"
   ]
  },
  {
   "cell_type": "code",
   "execution_count": null,
   "metadata": {},
   "outputs": [],
   "source": []
  }
 ],
 "metadata": {
  "kernelspec": {
   "display_name": "Python 3",
   "language": "python",
   "name": "python3"
  },
  "language_info": {
   "codemirror_mode": {
    "name": "ipython",
    "version": 3
   },
   "file_extension": ".py",
   "mimetype": "text/x-python",
   "name": "python",
   "nbconvert_exporter": "python",
   "pygments_lexer": "ipython3",
   "version": "3.7.3"
  }
 },
 "nbformat": 4,
 "nbformat_minor": 4
}
