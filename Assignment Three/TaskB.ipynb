{
 "cells": [
  {
   "cell_type": "markdown",
   "metadata": {},
   "source": [
    "# Assignment Three\n",
    "## Task B"
   ]
  },
  {
   "cell_type": "code",
   "execution_count": 1,
   "metadata": {},
   "outputs": [],
   "source": [
    "import torch\n",
    "import torch.nn as nn\n",
    "import torch.nn.functional as F\n",
    "import torchvision\n",
    "\n",
    "from torch.utils.data import DataLoader\n",
    "from torchvision import datasets, transforms, models\n",
    "from torchvision.utils import make_grid\n",
    "\n",
    "import matplotlib.pyplot as plt"
   ]
  },
  {
   "cell_type": "code",
   "execution_count": 2,
   "metadata": {},
   "outputs": [],
   "source": [
    "transform = transforms.ToTensor()\n",
    "\n",
    "train_data = datasets.MNIST('./data', train=True, download=True, transform=transform)\n",
    "test_data = datasets.MNIST('./data', train=False, download=True, transform=transform)"
   ]
  },
  {
   "cell_type": "code",
   "execution_count": 3,
   "metadata": {},
   "outputs": [],
   "source": [
    "train_loader = DataLoader(train_data, batch_size=100, shuffle=True)\n",
    "test_loader = DataLoader(test_data, batch_size=500, shuffle=False)"
   ]
  },
  {
   "cell_type": "code",
   "execution_count": 4,
   "metadata": {},
   "outputs": [],
   "source": [
    "class CNNmodel(nn.Module):\n",
    "    def __init__(self):\n",
    "        super().__init__()\n",
    "        self.conv1 = nn.Conv2d(1, 32, 3, padding=1)\n",
    "        self.conv2 = nn.Conv2d(32, 64, 3, padding=1)\n",
    "        self.fc1 = nn.Linear(64*7*7, 1024)\n",
    "        self.fc2 = nn.Linear(1024, 10)\n",
    "        #self.dense = nn.Linear(64 * 7 * 14, 10)\n",
    "\n",
    "    def forward(self, x):\n",
    "        #x = F.relu(self.conv1(x))\n",
    "        x = (self.conv1(x))\n",
    "        x = F.max_pool2d(x, 2, 2)\n",
    "        #x = F.relu(self.conv2(x))\n",
    "        x = (self.conv2(x))\n",
    "        x = F.max_pool2d(x, 2, 2)\n",
    "        x = x.view(-1, 64*7*7)\n",
    "        x = (self.fc1(x))\n",
    "        x = (self.fc2(x))\n",
    "            \n",
    "        return torch.log_softmax(x, dim=1)\n"
   ]
  },
  {
   "cell_type": "code",
   "execution_count": 5,
   "metadata": {},
   "outputs": [],
   "source": [
    "model = CNNmodel()\n",
    "criterion = nn.CrossEntropyLoss()\n",
    "optimizer = torch.optim.Adam(model.parameters(), lr=0.001)"
   ]
  },
  {
   "cell_type": "code",
   "execution_count": 6,
   "metadata": {},
   "outputs": [
    {
     "name": "stdout",
     "output_type": "stream",
     "text": [
      "Epoch: 0 Loss: 0.16140955686569214 Accuracy:  89.655\n",
      "Epoch: 0 Loss: 0.021529974415898323 Accuracy:  93.188\n",
      "Epoch: 0 Loss: 0.026524631306529045 Accuracy:  94.598\n",
      "Epoch: 1 Loss: 0.23014864325523376 Accuracy:  97.720\n",
      "Epoch: 1 Loss: 0.017660707235336304 Accuracy:  97.795\n",
      "Epoch: 1 Loss: 0.020547086372971535 Accuracy:  97.905\n",
      "Epoch: 2 Loss: 0.031033584848046303 Accuracy:  98.460\n",
      "Epoch: 2 Loss: 0.025858251377940178 Accuracy:  98.343\n",
      "Epoch: 2 Loss: 0.19753333926200867 Accuracy:  98.353\n",
      "Epoch: 3 Loss: 0.04440217837691307 Accuracy:  98.760\n",
      "Epoch: 3 Loss: 0.07357127219438553 Accuracy:  98.605\n",
      "Epoch: 3 Loss: 0.07122104614973068 Accuracy:  98.522\n",
      "Training took 2.316635 minutes\n"
     ]
    }
   ],
   "source": [
    "import time\n",
    "start = time.time()\n",
    "\n",
    "epochs = 4\n",
    "\n",
    "train_correct = []\n",
    "\n",
    "for i in range(epochs):\n",
    "    \n",
    "    trn_corr = 0\n",
    "    \n",
    "    for b, (x_train, y_train) in enumerate(train_loader):\n",
    "        \n",
    "        b+=1\n",
    "        \n",
    "        y_pred = model(x_train)\n",
    "        loss = criterion(y_pred, y_train)\n",
    "        predicted = torch.max(y_pred.data, 1)[1]\n",
    "        batch_corr = (predicted == y_train).sum()\n",
    "        trn_corr += batch_corr\n",
    "        \n",
    "        optimizer.zero_grad()\n",
    "        loss.backward()\n",
    "        optimizer.step()\n",
    "        \n",
    "        if b%200==0:\n",
    "            print(f'Epoch: {i} Loss: {loss} Accuracy: {trn_corr.item()*100/(b*100):7.3f}')\n",
    "            \n",
    "    train_correct.append(trn_corr)\n",
    "        \n",
    "full_time = time.time() - start\n",
    "print(f'Training took {(full_time/60):2f} minutes')\n",
    "    "
   ]
  }
 ],
 "metadata": {
  "kernelspec": {
   "display_name": "Python 3",
   "language": "python",
   "name": "python3"
  },
  "language_info": {
   "codemirror_mode": {
    "name": "ipython",
    "version": 3
   },
   "file_extension": ".py",
   "mimetype": "text/x-python",
   "name": "python",
   "nbconvert_exporter": "python",
   "pygments_lexer": "ipython3",
   "version": "3.7.3"
  }
 },
 "nbformat": 4,
 "nbformat_minor": 4
}
