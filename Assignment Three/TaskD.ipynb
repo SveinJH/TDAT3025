{
 "cells": [
  {
   "cell_type": "markdown",
   "metadata": {},
   "source": [
    "# Assignment Three\n",
    "## Task D"
   ]
  },
  {
   "cell_type": "code",
   "execution_count": 1,
   "metadata": {},
   "outputs": [],
   "source": [
    "import torch\n",
    "import torch.nn as nn\n",
    "import torch.nn.functional as F\n",
    "import torchvision\n",
    "\n",
    "from torch.utils.data import DataLoader\n",
    "from torchvision import datasets, transforms, models \n",
    "\n",
    "import matplotlib.pyplot as plt"
   ]
  },
  {
   "cell_type": "code",
   "execution_count": 2,
   "metadata": {},
   "outputs": [],
   "source": [
    "transform = transforms.ToTensor()"
   ]
  },
  {
   "cell_type": "code",
   "execution_count": 3,
   "metadata": {},
   "outputs": [],
   "source": [
    "train_data = datasets.FashionMNIST('./data/', train=True, download=True, transform=transform)\n",
    "test_data = datasets.FashionMNIST('./data/', train=False, download=True, transform=transform)"
   ]
  },
  {
   "cell_type": "code",
   "execution_count": 4,
   "metadata": {},
   "outputs": [],
   "source": [
    "class_names = ['T-shirt','Trouser','Sweater','Dress','Coat','Sandal','Shirt','Sneaker','Bag','Boot']"
   ]
  },
  {
   "cell_type": "code",
   "execution_count": 5,
   "metadata": {},
   "outputs": [],
   "source": [
    "train_loader = DataLoader(train_data, batch_size=10, shuffle=True)\n",
    "test_loader = DataLoader(test_data, batch_size=10, shuffle=True)"
   ]
  },
  {
   "cell_type": "code",
   "execution_count": 6,
   "metadata": {},
   "outputs": [],
   "source": [
    "for images, labels in train_loader:\n",
    "    break"
   ]
  },
  {
   "cell_type": "code",
   "execution_count": 7,
   "metadata": {},
   "outputs": [
    {
     "data": {
      "image/png": "[encoded data removed]",
      "text/plain": [
       "<Figure size 432x432 with 9 Axes>"
      ]
     },
     "metadata": {
      "needs_background": "light"
     },
     "output_type": "display_data"
    }
   ],
   "source": [
    "fig = plt.figure(figsize=(6,6))\n",
    "\n",
    "for i in range(1, 10):\n",
    "    fig.add_subplot(3, 3, i)\n",
    "    plt.imshow(images[i].reshape(28, 28))\n",
    "plt.show()"
   ]
  },
  {
   "cell_type": "code",
   "execution_count": 8,
   "metadata": {},
   "outputs": [],
   "source": [
    "class CNNmodel(nn.Module):\n",
    "    \n",
    "    def __init__(self):\n",
    "        super().__init__()\n",
    "        self.conv1 = nn.Conv2d(1, 6, 3, 1)\n",
    "        self.conv2 = nn.Conv2d(6, 16, 3, 1)\n",
    "        self.fc1 = nn.Linear(16*5*5, 120)\n",
    "        self.fc2 = nn.Linear(120, 84)\n",
    "        self.fc3 = nn.Linear(84, 10)\n",
    "        \n",
    "    def forward(self, x):\n",
    "        x = F.relu(self.conv1(x))\n",
    "        x = F.max_pool2d(x, 2, 2)\n",
    "        x = F.relu(self.conv2(x))\n",
    "        x = F.max_pool2d(x, 2, 2)\n",
    "        x = x.view(-1, 16*5*5)\n",
    "        x = F.relu(self.fc1(x))\n",
    "        x = F.relu(self.fc2(x))\n",
    "        x = self.fc3(x)\n",
    "        return F.log_softmax(x, dim=1)"
   ]
  },
  {
   "cell_type": "code",
   "execution_count": 9,
   "metadata": {},
   "outputs": [],
   "source": [
    "model = CNNmodel()"
   ]
  },
  {
   "cell_type": "code",
   "execution_count": 10,
   "metadata": {},
   "outputs": [],
   "source": [
    "criterion = nn.CrossEntropyLoss()\n",
    "optimizer = torch.optim.Adam(model.parameters(), lr=0.001)"
   ]
  },
  {
   "cell_type": "code",
   "execution_count": 11,
   "metadata": {},
   "outputs": [
    {
     "name": "stdout",
     "output_type": "stream",
     "text": [
      "Epoch: 0 Batch: 1000 Loss: 0.5262666940689087 Accuracy:  66.970\n",
      "Epoch: 0 Batch: 2000 Loss: 0.6357583403587341 Accuracy:  72.780\n",
      "Epoch: 0 Batch: 3000 Loss: 0.8308771252632141 Accuracy:  75.353\n",
      "Epoch: 0 Batch: 4000 Loss: 0.2287256270647049 Accuracy:  77.312\n",
      "Epoch: 0 Batch: 5000 Loss: 0.20871403813362122 Accuracy:  78.760\n",
      "Epoch: 0 Batch: 6000 Loss: 0.14697490632534027 Accuracy:  79.813\n",
      "Epoch: 1 Batch: 1000 Loss: 0.3286169171333313 Accuracy:  86.200\n",
      "Epoch: 1 Batch: 2000 Loss: 0.7393827438354492 Accuracy:  86.115\n",
      "Epoch: 1 Batch: 3000 Loss: 0.07348725944757462 Accuracy:  86.387\n",
      "Epoch: 1 Batch: 4000 Loss: 0.16880714893341064 Accuracy:  86.688\n",
      "Epoch: 1 Batch: 5000 Loss: 0.7110661268234253 Accuracy:  86.820\n",
      "Epoch: 1 Batch: 6000 Loss: 0.21548327803611755 Accuracy:  86.883\n",
      "Epoch: 2 Batch: 1000 Loss: 0.21321530640125275 Accuracy:  88.130\n",
      "Epoch: 2 Batch: 2000 Loss: 0.24484935402870178 Accuracy:  88.140\n",
      "Epoch: 2 Batch: 3000 Loss: 0.22900159657001495 Accuracy:  88.303\n",
      "Epoch: 2 Batch: 4000 Loss: 0.040084682404994965 Accuracy:  88.360\n",
      "Epoch: 2 Batch: 5000 Loss: 0.2698877453804016 Accuracy:  88.454\n",
      "Epoch: 2 Batch: 6000 Loss: 0.405474990606308 Accuracy:  88.523\n",
      "Epoch: 3 Batch: 1000 Loss: 0.9598444700241089 Accuracy:  89.350\n",
      "Epoch: 3 Batch: 2000 Loss: 0.17878183722496033 Accuracy:  89.360\n",
      "Epoch: 3 Batch: 3000 Loss: 0.1748667061328888 Accuracy:  89.313\n",
      "Epoch: 3 Batch: 4000 Loss: 0.3151462972164154 Accuracy:  89.485\n",
      "Epoch: 3 Batch: 5000 Loss: 0.5463681817054749 Accuracy:  89.536\n",
      "Epoch: 3 Batch: 6000 Loss: 0.01349811814725399 Accuracy:  89.640\n",
      "Epoch: 4 Batch: 1000 Loss: 0.4660642147064209 Accuracy:  90.480\n",
      "Epoch: 4 Batch: 2000 Loss: 0.4633406698703766 Accuracy:  90.435\n",
      "Epoch: 4 Batch: 3000 Loss: 0.17760416865348816 Accuracy:  90.380\n",
      "Epoch: 4 Batch: 4000 Loss: 0.40002861618995667 Accuracy:  90.323\n",
      "Epoch: 4 Batch: 5000 Loss: 0.31998926401138306 Accuracy:  90.358\n",
      "Epoch: 4 Batch: 6000 Loss: 0.15223369002342224 Accuracy:  90.408\n",
      "Training took 3.13773334423701 minutes\n"
     ]
    }
   ],
   "source": [
    "import time\n",
    "start_time = time.time()\n",
    "\n",
    "epochs = 5\n",
    "\n",
    "train_correct = []\n",
    "train_loss = []\n",
    "\n",
    "for i in range(epochs):\n",
    "    \n",
    "    trn_corr = 0\n",
    "    \n",
    "    for b, (x_train, y_train) in enumerate(train_loader):\n",
    "        \n",
    "        b+=1\n",
    "        \n",
    "        y_pred = model(x_train)\n",
    "        loss = criterion(y_pred, y_train)\n",
    "        predicted = torch.max(y_pred.data, 1)[1]\n",
    "        batch_corr = (predicted == y_train).sum()\n",
    "        trn_corr += batch_corr\n",
    "        \n",
    "        optimizer.zero_grad()\n",
    "        loss.backward()\n",
    "        optimizer.step()\n",
    "        \n",
    "        if b%1000==0:\n",
    "            print(f'Epoch: {i} Batch: {b} Loss: {loss} Accuracy: {trn_corr.item()*100/(b*10):7.3f}')\n",
    "        \n",
    "\n",
    "    train_correct.append(trn_corr)\n",
    "    train_loss.append(loss)\n",
    "    \n",
    "        \n",
    "full_time = time.time() - start_time\n",
    "print(f'Training took {full_time/60} minutes')"
   ]
  },
  {
   "cell_type": "code",
   "execution_count": 12,
   "metadata": {},
   "outputs": [
    {
     "name": "stdout",
     "output_type": "stream",
     "text": [
      "Test accuracy: 89.26\n"
     ]
    }
   ],
   "source": [
    "model.eval()\n",
    "\n",
    "with torch.no_grad():\n",
    "    \n",
    "    correct = 0\n",
    "    \n",
    "    for x_test, y_test in test_loader:\n",
    "        \n",
    "        y_val = model(x_test)\n",
    "        predicted = torch.max(y_val.data, 1)[1]\n",
    "        correct += (predicted == y_test).sum()\n",
    "        \n",
    "print(f'Test accuracy: {correct.item()*100/len(test_data)}')"
   ]
  }
 ],
 "metadata": {
  "kernelspec": {
   "display_name": "Python 3",
   "language": "python",
   "name": "python3"
  },
  "language_info": {
   "codemirror_mode": {
    "name": "ipython",
    "version": 3
   },
   "file_extension": ".py",
   "mimetype": "text/x-python",
   "name": "python",
   "nbconvert_exporter": "python",
   "pygments_lexer": "ipython3",
   "version": "3.7.3"
  }
 },
 "nbformat": 4,
 "nbformat_minor": 4
}
