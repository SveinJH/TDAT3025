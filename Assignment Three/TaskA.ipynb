{
 "cells": [
  {
   "cell_type": "markdown",
   "metadata": {},
   "source": [
    "# Assignment Three\n",
    "## Task A"
   ]
  },
  {
   "cell_type": "code",
   "execution_count": 1,
   "metadata": {},
   "outputs": [],
   "source": [
    "import torch\n",
    "import torch.nn as nn\n",
    "import torch.nn.functional as F\n",
    "import torchvision\n",
    "\n",
    "from torch.utils.data import DataLoader\n",
    "from torchvision import datasets, transforms, models\n",
    "from torchvision.utils import make_grid\n",
    "\n",
    "import matplotlib.pyplot as plt"
   ]
  },
  {
   "cell_type": "code",
   "execution_count": 2,
   "metadata": {},
   "outputs": [],
   "source": [
    "transform = transforms.ToTensor()\n",
    "\n",
    "train_data = datasets.MNIST('./data', train=True, download=True, transform=transform)\n",
    "test_data = datasets.MNIST('./data', train=False, download=True, transform=transform)"
   ]
  },
  {
   "cell_type": "code",
   "execution_count": 3,
   "metadata": {},
   "outputs": [],
   "source": [
    "train_loader = DataLoader(train_data, batch_size=100, shuffle=True)\n",
    "test_loader = DataLoader(test_data, batch_size=500, shuffle=False)"
   ]
  },
  {
   "cell_type": "code",
   "execution_count": 4,
   "metadata": {},
   "outputs": [],
   "source": [
    "class CNNmodel(nn.Module):\n",
    "    def __init__(self):\n",
    "        super().__init__()\n",
    "        self.conv1 = nn.Conv2d(1, 32, 3, padding=1)\n",
    "        self.conv2 = nn.Conv2d(32, 64, 3, padding=1)\n",
    "        self.fc1 = nn.Linear(64*7*7, 10)\n",
    "        #self.dense = nn.Linear(64 * 7 * 14, 10)\n",
    "\n",
    "    def forward(self, x):\n",
    "        #x = F.relu(self.conv1(x))\n",
    "        x = (self.conv1(x))\n",
    "        x = F.max_pool2d(x, 2, 2)\n",
    "        #x = F.relu(self.conv2(x))\n",
    "        x = (self.conv2(x))\n",
    "        x = F.max_pool2d(x, 2, 2)\n",
    "        x = x.view(-1, 64*7*7)\n",
    "        x = self.fc1(x)\n",
    "        \n",
    "        return torch.log_softmax(x, dim=1)\n"
   ]
  },
  {
   "cell_type": "code",
   "execution_count": 5,
   "metadata": {},
   "outputs": [],
   "source": [
    "model = CNNmodel()\n",
    "criterion = nn.CrossEntropyLoss()\n",
    "optimizer = torch.optim.Adam(model.parameters(), lr=0.001)"
   ]
  },
  {
   "cell_type": "code",
   "execution_count": 6,
   "metadata": {},
   "outputs": [
    {
     "name": "stdout",
     "output_type": "stream",
     "text": [
      "Epoch: 0 Loss: 0.12549404799938202 Accuracy:  88.370\n",
      "Epoch: 0 Loss: 0.11473812162876129 Accuracy:  92.243\n",
      "Epoch: 0 Loss: 0.029618285596370697 Accuracy:  93.888\n",
      "Epoch: 1 Loss: 0.1066390722990036 Accuracy:  97.790\n",
      "Epoch: 1 Loss: 0.16070909798145294 Accuracy:  97.983\n",
      "Epoch: 1 Loss: 0.02428649365901947 Accuracy:  98.018\n",
      "Epoch: 2 Loss: 0.08039876073598862 Accuracy:  98.500\n",
      "Epoch: 2 Loss: 0.04561030864715576 Accuracy:  98.430\n",
      "Epoch: 2 Loss: 0.021818120032548904 Accuracy:  98.427\n",
      "Epoch: 3 Loss: 0.16522586345672607 Accuracy:  98.775\n",
      "Epoch: 3 Loss: 0.04233289137482643 Accuracy:  98.787\n",
      "Epoch: 3 Loss: 0.028312232345342636 Accuracy:  98.717\n",
      "Training took 1.388357 minutes\n"
     ]
    }
   ],
   "source": [
    "import time\n",
    "start = time.time()\n",
    "\n",
    "epochs = 4\n",
    "\n",
    "train_correct = []\n",
    "\n",
    "for i in range(epochs):\n",
    "    \n",
    "    trn_corr = 0\n",
    "    \n",
    "    for b, (x_train, y_train) in enumerate(train_loader):\n",
    "        \n",
    "        b+=1\n",
    "        \n",
    "        y_pred = model(x_train)\n",
    "        loss = criterion(y_pred, y_train)\n",
    "        predicted = torch.max(y_pred.data, 1)[1]\n",
    "        batch_corr = (predicted == y_train).sum()\n",
    "        trn_corr += batch_corr\n",
    "        \n",
    "        optimizer.zero_grad()\n",
    "        loss.backward()\n",
    "        optimizer.step()\n",
    "        \n",
    "        if b%200==0:\n",
    "            print(f'Epoch: {i} Loss: {loss} Accuracy: {trn_corr.item()*100/(b*100):7.3f}')\n",
    "            \n",
    "    train_correct.append(trn_corr)\n",
    "        \n",
    "full_time = time.time() - start\n",
    "print(f'Training took {(full_time/60):2f} minutes')\n",
    "    "
   ]
  }
 ],
 "metadata": {
  "kernelspec": {
   "display_name": "Python 3",
   "language": "python",
   "name": "python3"
  },
  "language_info": {
   "codemirror_mode": {
    "name": "ipython",
    "version": 3
   },
   "file_extension": ".py",
   "mimetype": "text/x-python",
   "name": "python",
   "nbconvert_exporter": "python",
   "pygments_lexer": "ipython3",
   "version": "3.7.3"
  }
 },
 "nbformat": 4,
 "nbformat_minor": 4
}
