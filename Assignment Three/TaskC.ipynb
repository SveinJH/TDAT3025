{
 "cells": [
  {
   "cell_type": "markdown",
   "metadata": {},
   "source": [
    "# Assignment Three\n",
    "## Task C"
   ]
  },
  {
   "cell_type": "code",
   "execution_count": 1,
   "metadata": {},
   "outputs": [],
   "source": [
    "import torch\n",
    "import torch.nn as nn\n",
    "import torch.nn.functional as F\n",
    "import torchvision\n",
    "\n",
    "from torch.utils.data import DataLoader\n",
    "from torchvision import datasets, transforms, models \n",
    "from torchvision.utils import make_grid\n",
    "\n",
    "import matplotlib.pyplot as plt"
   ]
  },
  {
   "cell_type": "code",
   "execution_count": 2,
   "metadata": {},
   "outputs": [],
   "source": [
    "transform = transforms.ToTensor()\n",
    "\n",
    "train_data = datasets.MNIST('./data', train=True, download=True, transform=transform)\n",
    "test_data = datasets.MNIST('./data', train=False, download=True, transform=transform)"
   ]
  },
  {
   "cell_type": "code",
   "execution_count": 3,
   "metadata": {},
   "outputs": [],
   "source": [
    "train_loader = DataLoader(train_data, batch_size=10, shuffle=True)\n",
    "test_loader = DataLoader(test_data, batch_size=10, shuffle=False)"
   ]
  },
  {
   "cell_type": "code",
   "execution_count": 4,
   "metadata": {},
   "outputs": [],
   "source": [
    "class CNNmodel(nn.Module):\n",
    "    def __init__(self):\n",
    "        super().__init__()\n",
    "        self.conv1 = nn.Conv2d(1, 6, 3, 1)\n",
    "        self.conv2 = nn.Conv2d(6, 16, 3, 1)\n",
    "        self.fc1 = nn.Linear(16*5*5, 120)\n",
    "        self.fc2 = nn.Linear(120, 84)\n",
    "        self.fc3 = nn.Linear(84, 10)\n",
    "\n",
    "    def forward(self, x):\n",
    "        x = F.relu(self.conv1(x))\n",
    "        x = F.max_pool2d(x, 2, 2)\n",
    "        x = F.relu(self.conv2(x))\n",
    "        x = F.max_pool2d(x, 2, 2)\n",
    "        x = x.view(-1, 16*5*5)\n",
    "        x = F.relu(self.fc1(x))\n",
    "        x = F.relu(self.fc2(x))\n",
    "        x = self.fc3(x)\n",
    "            \n",
    "        return torch.log_softmax(x, dim=1)\n"
   ]
  },
  {
   "cell_type": "code",
   "execution_count": 5,
   "metadata": {},
   "outputs": [],
   "source": [
    "model = CNNmodel()\n",
    "criterion = nn.CrossEntropyLoss()\n",
    "optimizer = torch.optim.Adam(model.parameters(), lr=0.001)"
   ]
  },
  {
   "cell_type": "code",
   "execution_count": 6,
   "metadata": {},
   "outputs": [
    {
     "name": "stdout",
     "output_type": "stream",
     "text": [
      "Epoch: 0 Loss: 0.11220882087945938 Accuracy:  76.833\n",
      "Epoch: 0 Loss: 0.06343716382980347 Accuracy:  85.358\n",
      "Epoch: 0 Loss: 0.02166539989411831 Accuracy:  88.872\n",
      "Epoch: 0 Loss: 0.054398320615291595 Accuracy:  90.692\n",
      "Epoch: 0 Loss: 0.6612063646316528 Accuracy:  91.833\n",
      "Epoch: 0 Loss: 0.011352772824466228 Accuracy:  92.686\n",
      "Epoch: 0 Loss: 0.005288996268063784 Accuracy:  93.367\n",
      "Epoch: 0 Loss: 0.21493253111839294 Accuracy:  93.852\n",
      "Epoch: 0 Loss: 0.42051681876182556 Accuracy:  94.228\n",
      "Epoch: 0 Loss: 0.008206434547901154 Accuracy:  94.527\n",
      "Epoch: 1 Loss: 0.00038428528932854533 Accuracy:  97.600\n",
      "Epoch: 1 Loss: 0.003921263851225376 Accuracy:  97.708\n",
      "Epoch: 1 Loss: 0.00021461513824760914 Accuracy:  97.772\n",
      "Epoch: 1 Loss: 0.0023190572392195463 Accuracy:  97.888\n",
      "Epoch: 1 Loss: 0.0032765227369964123 Accuracy:  97.910\n",
      "Epoch: 1 Loss: 0.009429538622498512 Accuracy:  97.933\n",
      "Epoch: 1 Loss: 0.001287441817112267 Accuracy:  97.960\n",
      "Epoch: 1 Loss: 0.0013194407802075148 Accuracy:  98.019\n",
      "Epoch: 1 Loss: 0.027760585770010948 Accuracy:  98.091\n",
      "Epoch: 1 Loss: 0.006776425987482071 Accuracy:  98.115\n",
      "Epoch: 2 Loss: 0.5560779571533203 Accuracy:  98.700\n",
      "Epoch: 2 Loss: 0.0011483788257464767 Accuracy:  98.608\n",
      "Epoch: 2 Loss: 0.0002817554341163486 Accuracy:  98.500\n",
      "Epoch: 2 Loss: 0.001031949883326888 Accuracy:  98.542\n",
      "Epoch: 2 Loss: 6.386170571204275e-05 Accuracy:  98.560\n",
      "Epoch: 2 Loss: 0.0018327994039282203 Accuracy:  98.564\n",
      "Epoch: 2 Loss: 0.00168353202752769 Accuracy:  98.571\n",
      "Epoch: 2 Loss: 0.11315523087978363 Accuracy:  98.569\n",
      "Epoch: 2 Loss: 0.23831351101398468 Accuracy:  98.593\n",
      "Epoch: 2 Loss: 1.842913479777053e-05 Accuracy:  98.610\n",
      "Epoch: 3 Loss: 0.0023163200821727514 Accuracy:  98.950\n",
      "Epoch: 3 Loss: 0.012744009494781494 Accuracy:  98.967\n",
      "Epoch: 3 Loss: 0.20541314780712128 Accuracy:  98.911\n",
      "Epoch: 3 Loss: 0.0016227362211793661 Accuracy:  98.938\n",
      "Epoch: 3 Loss: 0.00042592029785737395 Accuracy:  98.917\n",
      "Epoch: 3 Loss: 4.6975161239970475e-05 Accuracy:  98.939\n",
      "Epoch: 3 Loss: 8.734044240554795e-05 Accuracy:  98.921\n",
      "Epoch: 3 Loss: 9.709945879876614e-05 Accuracy:  98.925\n",
      "Epoch: 3 Loss: 0.006185807287693024 Accuracy:  98.874\n",
      "Epoch: 3 Loss: 0.00013111878070048988 Accuracy:  98.882\n",
      "Epoch: 4 Loss: 1.21110815598513e-05 Accuracy:  99.217\n",
      "Epoch: 4 Loss: 0.00035719983861781657 Accuracy:  99.200\n",
      "Epoch: 4 Loss: 0.00024554887204431 Accuracy:  99.172\n",
      "Epoch: 4 Loss: 0.00010279007256031036 Accuracy:  99.213\n",
      "Epoch: 4 Loss: 7.1448550443165e-05 Accuracy:  99.177\n",
      "Epoch: 4 Loss: 0.00016849281382746994 Accuracy:  99.136\n",
      "Epoch: 4 Loss: 0.00030915046227164567 Accuracy:  99.126\n",
      "Epoch: 4 Loss: 0.008724691346287727 Accuracy:  99.112\n",
      "Epoch: 4 Loss: 4.228737088851631e-05 Accuracy:  99.124\n",
      "Epoch: 4 Loss: 0.002194344298914075 Accuracy:  99.123\n",
      "Training took 1.845189 minutes\n"
     ]
    }
   ],
   "source": [
    "import time\n",
    "start = time.time()\n",
    "\n",
    "epochs = 5\n",
    "\n",
    "train_correct = []\n",
    "\n",
    "for i in range(epochs):\n",
    "    \n",
    "    trn_corr = 0\n",
    "    \n",
    "    for b, (x_train, y_train) in enumerate(train_loader):\n",
    "        \n",
    "        b+=1\n",
    "        \n",
    "        y_pred = model(x_train)\n",
    "        loss = criterion(y_pred, y_train)\n",
    "        predicted = torch.max(y_pred.data, 1)[1]\n",
    "        batch_corr = (predicted == y_train).sum()\n",
    "        trn_corr += batch_corr\n",
    "        \n",
    "        optimizer.zero_grad()\n",
    "        loss.backward()\n",
    "        optimizer.step()\n",
    "        \n",
    "        if b%600==0:\n",
    "            print(f'Epoch: {i} Loss: {loss} Accuracy: {trn_corr.item()*100/(b*10):7.3f}')\n",
    "            \n",
    "    train_correct.append(trn_corr)\n",
    "        \n",
    "full_time = time.time() - start\n",
    "print(f'Training took {(full_time/60):2f} minutes')\n",
    "    "
   ]
  }
 ],
 "metadata": {
  "kernelspec": {
   "display_name": "Python 3",
   "language": "python",
   "name": "python3"
  },
  "language_info": {
   "codemirror_mode": {
    "name": "ipython",
    "version": 3
   },
   "file_extension": ".py",
   "mimetype": "text/x-python",
   "name": "python",
   "nbconvert_exporter": "python",
   "pygments_lexer": "ipython3",
   "version": "3.7.3"
  }
 },
 "nbformat": 4,
 "nbformat_minor": 4
}
