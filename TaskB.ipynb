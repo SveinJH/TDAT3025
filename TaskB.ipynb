{
 "cells": [
  {
   "cell_type": "code",
   "execution_count": 24,
   "metadata": {},
   "outputs": [],
   "source": [
    "import torch\n",
    "import torch.nn as nn"
   ]
  },
  {
   "cell_type": "code",
   "execution_count": 45,
   "metadata": {},
   "outputs": [],
   "source": [
    "class LSTM(nn.Module):\n",
    "    \n",
    "    def __init__(self, input_size, output_size):\n",
    "    \n",
    "        super().__init__()\n",
    "        self.lstm = nn.LSTM(input_size, 128)\n",
    "        self.linear = nn.Linear(128, output_size)\n",
    "        \n",
    "    def reset(self, batch_size):\n",
    "        zero_state = torch.zeros(1, batch_size, 128)\n",
    "        self.hidden_state = zero_state\n",
    "        self.cell_state = zero_state\n",
    "        \n",
    "    def logits(self, x):\n",
    "        out, (self.hidden_state, self.cell_state) = self.lstm(x, (self.hidden_state, self.cell_state))\n",
    "        return self.linear(out[-1].reshape(-1, 128))\n",
    "\n",
    "    def f(self, x):\n",
    "        return torch.softmax(self.logits(x), dim=1)\n",
    "\n",
    "    def loss(self, x, y):\n",
    "        return nn.functional.cross_entropy(self.logits(x), y.argmax(1))"
   ]
  },
  {
   "cell_type": "code",
   "execution_count": 46,
   "metadata": {},
   "outputs": [],
   "source": [
    "char_encodings = [\n",
    "    [1., 0., 0., 0., 0., 0., 0., 0., 0., 0., 0., 0., 0.],  # ' '\n",
    "    [0., 1., 0., 0., 0., 0., 0., 0., 0., 0., 0., 0., 0.],  # 'a'\n",
    "    [0., 0., 1., 0., 0., 0., 0., 0., 0., 0., 0., 0., 0.],  # 'c'\n",
    "    [0., 0., 0., 1., 0., 0., 0., 0., 0., 0., 0., 0., 0.],  # 'f'\n",
    "    [0., 0., 0., 0., 1., 0., 0., 0., 0., 0., 0., 0., 0.],  # 'h'\n",
    "    [0., 0., 0., 0., 0., 1., 0., 0., 0., 0., 0., 0., 0.],  # 'l'\n",
    "    [0., 0., 0., 0., 0., 0., 1., 0., 0., 0., 0., 0., 0.],  # 'm'\n",
    "    [0., 0., 0., 0., 0., 0., 0., 1., 0., 0., 0., 0., 0.],  # 'n'\n",
    "    [0., 0., 0., 0., 0., 0., 0., 0., 1., 0., 0., 0., 0.],  # 'o'\n",
    "    [0., 0., 0., 0., 0., 0., 0., 0., 0., 1., 0., 0., 0.],  # 'p'\n",
    "    [0., 0., 0., 0., 0., 0., 0., 0., 0., 0., 1., 0., 0.],  # 'r'\n",
    "    [0., 0., 0., 0., 0., 0., 0., 0., 0., 0., 0., 1., 0.],  # 's'\n",
    "    [0., 0., 0., 0., 0., 0., 0., 0., 0., 0., 0., 0., 1.]   # 't'\n",
    "]\n",
    "\n",
    "encoding_size = len(char_encodings)\n",
    "\n",
    "index_to_char = [' ', 'a', 'c', 'f', 'h', 'l', 'm', 'n', 'o', 'p', 'r', 's', 't']"
   ]
  },
  {
   "cell_type": "code",
   "execution_count": 47,
   "metadata": {},
   "outputs": [],
   "source": [
    " emoji_encodings = [\n",
    "    [1., 0., 0., 0., 0., 0., 0.], # '🎩'\n",
    "    [0., 1., 0., 0., 0., 0., 0.], # '🐀'\n",
    "    [0., 0., 1., 0., 0., 0., 0.], # '🐈'\n",
    "    [0., 0., 0., 1., 0., 0., 0.], # '🏢'\n",
    "    [0., 0., 0., 0., 1., 0., 0.], # '🧔'\n",
    "    [0., 0., 0., 0., 0., 1., 0.], # '🧢'\n",
    "    [0., 0., 0., 0., 0., 0., 1.]  # '👦'\n",
    "]\n",
    "\n",
    "emoji_size = len(emoji_encodings)\n",
    "index_to_emoji = ['🎩', '🐀', '🐈', '🏢', '🧔', '🧢', '👦']"
   ]
  },
  {
   "cell_type": "code",
   "execution_count": 48,
   "metadata": {},
   "outputs": [],
   "source": [
    "def encode(string):\n",
    "    encoding = []\n",
    "    \n",
    "    for char in string:\n",
    "        encoding.append(char_encodings[index_to_char.index(char)])\n",
    "        \n",
    "    return encoding"
   ]
  },
  {
   "cell_type": "code",
   "execution_count": 49,
   "metadata": {},
   "outputs": [],
   "source": [
    "def encode_emoji(emoji):\n",
    "    return emoji_encodings[index_to_emoji.index(emoji)]"
   ]
  },
  {
   "cell_type": "code",
   "execution_count": 50,
   "metadata": {},
   "outputs": [],
   "source": [
    "def decode_emoji(tensor):\n",
    "    return index_to_emoji[tensor.argmax(1)]"
   ]
  },
  {
   "cell_type": "code",
   "execution_count": 51,
   "metadata": {},
   "outputs": [],
   "source": [
    "x_train = torch.tensor([\n",
    "    encode('hat '),\n",
    "    encode('rat '),\n",
    "    encode('cat '),\n",
    "    encode('flat'),\n",
    "    encode('matt'),\n",
    "    encode('cap '),\n",
    "    encode('son '),\n",
    "]).transpose(1, 0)"
   ]
  },
  {
   "cell_type": "code",
   "execution_count": 52,
   "metadata": {},
   "outputs": [],
   "source": [
    "y_train = torch.tensor([encode_emoji('🎩'), encode_emoji('🐀'), encode_emoji('🐈'), encode_emoji('🏢'), \n",
    "                        encode_emoji('🧔'), encode_emoji('🧢'), encode_emoji('👦')]) "
   ]
  },
  {
   "cell_type": "code",
   "execution_count": 53,
   "metadata": {},
   "outputs": [],
   "source": [
    "model = LSTM(encoding_size, emoji_size)\n",
    "optimizer = torch.optim.RMSprop(model.parameters(), lr=0.001)"
   ]
  },
  {
   "cell_type": "code",
   "execution_count": 80,
   "metadata": {
    "scrolled": true
   },
   "outputs": [
    {
     "name": "stdout",
     "output_type": "stream",
     "text": [
      "🐀\n",
      "🐀\n",
      "🐀\n",
      "🐀\n",
      "🐀\n",
      "🐀\n",
      "🐀\n",
      "🐀\n",
      "🐀\n",
      "🐀\n",
      "🐀\n",
      "🐀\n",
      "🐀\n",
      "🐀\n",
      "🐀\n",
      "🐀\n",
      "🐀\n",
      "🐀\n",
      "🐀\n",
      "🐀\n",
      "🐀\n",
      "🐀\n",
      "🐀\n",
      "🐀\n",
      "🐀\n",
      "🐀\n",
      "🐀\n",
      "🐀\n",
      "🐀\n",
      "🐀\n",
      "🐀\n",
      "🐀\n",
      "🐀\n",
      "🐀\n",
      "🐀\n",
      "🐀\n",
      "🐀\n",
      "🐀\n",
      "🐀\n",
      "🐀\n",
      "🐀\n",
      "🐀\n",
      "🐀\n",
      "🐀\n",
      "🐀\n",
      "🐀\n",
      "🐀\n",
      "🐀\n",
      "🐀\n",
      "🐀\n"
     ]
    }
   ],
   "source": [
    "epochs = 500\n",
    "\n",
    "for epoch in range(epochs):\n",
    "    model.reset(x_train.size(1))\n",
    "    model.loss(x_train, y_train).backward()\n",
    "    optimizer.step()\n",
    "    optimizer.zero_grad()\n",
    "    \n",
    "    if epoch % 10 == 9:\n",
    "        model.reset(1)\n",
    "        test_string = 'rt  '\n",
    "        print(decode_emoji(model.f(torch.tensor([encode(test_string)]).transpose(1, 0))))"
   ]
  },
  {
   "cell_type": "code",
   "execution_count": null,
   "metadata": {},
   "outputs": [],
   "source": []
  }
 ],
 "metadata": {
  "kernelspec": {
   "display_name": "Python 3",
   "language": "python",
   "name": "python3"
  },
  "language_info": {
   "codemirror_mode": {
    "name": "ipython",
    "version": 3
   },
   "file_extension": ".py",
   "mimetype": "text/x-python",
   "name": "python",
   "nbconvert_exporter": "python",
   "pygments_lexer": "ipython3",
   "version": "3.7.3"
  }
 },
 "nbformat": 4,
 "nbformat_minor": 4
}
