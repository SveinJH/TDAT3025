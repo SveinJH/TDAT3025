{
 "cells": [
  {
   "cell_type": "markdown",
   "metadata": {},
   "source": [
    "# Task A"
   ]
  },
  {
   "cell_type": "code",
   "execution_count": 1,
   "metadata": {},
   "outputs": [],
   "source": [
    "import numpy as np\n",
    "import csv as csv\n",
    "import matplotlib.pyplot as plt\n",
    "import torch"
   ]
  },
  {
   "cell_type": "markdown",
   "metadata": {},
   "source": [
    "## Read data from file"
   ]
  },
  {
   "cell_type": "code",
   "execution_count": 2,
   "metadata": {},
   "outputs": [],
   "source": [
    "length = []\n",
    "weight = []\n",
    "with open('length_weight.csv', newline='') as csv_file:\n",
    "    csv_file.readline()\n",
    "    csv_reader = csv.reader(csv_file)\n",
    "    for row in csv_reader:\n",
    "        length.append(float(row[0]))\n",
    "        weight.append(float(row[1]))"
   ]
  },
  {
   "cell_type": "code",
   "execution_count": 3,
   "metadata": {},
   "outputs": [],
   "source": [
    "x_train = torch.tensor(length).reshape(-1, 1)\n",
    "y_train = torch.tensor(weight).reshape(-1, 1)"
   ]
  },
  {
   "cell_type": "code",
   "execution_count": 4,
   "metadata": {},
   "outputs": [],
   "source": [
    "class LinearRegressionModel: \n",
    "    def __init__(self):\n",
    "        self.W = torch.tensor([[0.0]], requires_grad=True)\n",
    "        self.b = torch.tensor([[0.0]], requires_grad=True)\n",
    "        \n",
    "    def f(self, x):\n",
    "        return x @ self.W + self.b\n",
    "    \n",
    "    def loss(self, x, y):\n",
    "        #return torch.mean(torch.square(self.f(x) - y))\n",
    "        return torch.nn.functional.mse_loss(self.f(x), y)"
   ]
  },
  {
   "cell_type": "code",
   "execution_count": 5,
   "metadata": {},
   "outputs": [],
   "source": [
    "model = LinearRegressionModel()"
   ]
  },
  {
   "cell_type": "markdown",
   "metadata": {},
   "source": [
    "## Optimizing"
   ]
  },
  {
   "cell_type": "code",
   "execution_count": 6,
   "metadata": {},
   "outputs": [
    {
     "name": "stdout",
     "output_type": "stream",
     "text": [
      "Done\n"
     ]
    }
   ],
   "source": [
    "optimizer = torch.optim.SGD([model.b, model.W], 0.00015)\n",
    "for epoch in range(100000):\n",
    "    model.loss(x_train, y_train).backward()\n",
    "    optimizer.step()\n",
    "    optimizer.zero_grad()\n",
    "print('Done')"
   ]
  },
  {
   "cell_type": "markdown",
   "metadata": {},
   "source": [
    "## Results"
   ]
  },
  {
   "cell_type": "code",
   "execution_count": 7,
   "metadata": {},
   "outputs": [
    {
     "name": "stdout",
     "output_type": "stream",
     "text": [
      "W = tensor([[0.2187]], requires_grad=True), b = tensor([[-6.8682]], requires_grad=True), loss = tensor(1.1444, grad_fn=<MseLossBackward>)\n"
     ]
    }
   ],
   "source": [
    "print('W = %s, b = %s, loss = %s' % (model.W, model.b, model.loss(x_train, y_train)))"
   ]
  },
  {
   "cell_type": "markdown",
   "metadata": {},
   "source": [
    "## Plotting"
   ]
  },
  {
   "cell_type": "code",
   "execution_count": 10,
   "metadata": {},
   "outputs": [
    {
     "data": {
      "image/png": "[encoded data removed]",
      "text/plain": [
       "<Figure size 432x288 with 1 Axes>"
      ]
     },
     "metadata": {
      "needs_background": "light"
     },
     "output_type": "display_data"
    }
   ],
   "source": [
    "plt.scatter(x_train, y_train, label='$(\\\\hat x^{(i)}, \\\\hat y^{(i)})$')\n",
    "#plt.plot(x_train, y_train, 'o', label='$(\\\\hat x^{(i)}, \\\\hat y^{(i)})$')\n",
    "plt.xlabel('x')\n",
    "plt.ylabel('y')\n",
    "x = torch.tensor([[torch.min(x_train)], [torch.max(x_train)]])\n",
    "#plt.plot(x, model.f(x).detach(), label='$y = f(x) = xW+b$')\n",
    "plt.plot(x.tolist(), model.f(x).detach().tolist(), color='orange')\n",
    "plt.show()"
   ]
  },
  {
   "cell_type": "code",
   "execution_count": null,
   "metadata": {},
   "outputs": [],
   "source": []
  },
  {
   "cell_type": "code",
   "execution_count": null,
   "metadata": {},
   "outputs": [],
   "source": []
  }
 ],
 "metadata": {
  "kernelspec": {
   "display_name": "Python 3",
   "language": "python",
   "name": "python3"
  },
  "language_info": {
   "codemirror_mode": {
    "name": "ipython",
    "version": 3
   },
   "file_extension": ".py",
   "mimetype": "text/x-python",
   "name": "python",
   "nbconvert_exporter": "python",
   "pygments_lexer": "ipython3",
   "version": "3.7.3"
  }
 },
 "nbformat": 4,
 "nbformat_minor": 4
}
